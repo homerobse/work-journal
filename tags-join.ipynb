{
 "cells": [
  {
   "cell_type": "code",
   "execution_count": 19,
   "metadata": {},
   "outputs": [],
   "source": [
    "import matplotlib.pyplot as plt\n",
    "from view import *"
   ]
  },
  {
   "cell_type": "code",
   "execution_count": 20,
   "metadata": {},
   "outputs": [],
   "source": [
    "attributions1 = [\"t1\", \"t2\"]\n",
    "durations1 = [\"1:10\", \"0:15\"]\n",
    "\n",
    "\n",
    "attributions2 = [\"t1\", \"t3\"]\n",
    "durations2 = [\"0:35\", \"0:20\"]\n",
    "\n",
    "attributions3=[]\n",
    "durations3=[]\n"
   ]
  },
  {
   "cell_type": "code",
   "execution_count": 21,
   "metadata": {},
   "outputs": [
    {
     "data": {
      "text/plain": [
       "([['t1', 't2'], ['t1', 't3'], []], [['1:10', '0:15'], ['0:35', '0:20'], []])"
      ]
     },
     "execution_count": 21,
     "metadata": {},
     "output_type": "execute_result"
    }
   ],
   "source": [
    "attributions_lists = []\n",
    "attributions_lists.append(attributions1)\n",
    "attributions_lists.append(attributions2)\n",
    "attributions_lists.append(attributions3)\n",
    "\n",
    "durations_lists = []\n",
    "durations_lists.append(durations1)\n",
    "durations_lists.append(durations2)\n",
    "durations_lists.append(durations3)\n",
    "attributions_lists, durations_lists"
   ]
  },
  {
   "cell_type": "code",
   "execution_count": 22,
   "metadata": {},
   "outputs": [
    {
     "data": {
      "text/plain": [
       "(['t1', 't2', 't3'],\n",
       " [datetime.timedelta(seconds=6300),\n",
       "  datetime.timedelta(seconds=900),\n",
       "  datetime.timedelta(seconds=1200)])"
      ]
     },
     "execution_count": 22,
     "metadata": {},
     "output_type": "execute_result"
    }
   ],
   "source": [
    "def consolidate_attributions_and_durations_lists(attributions_lists, durations_lists):\n",
    "    all_attributions = []\n",
    "    all_durations = []\n",
    "\n",
    "    for att_l_idx, att_list in enumerate(attributions_lists):  # att_l_idx indexes the day corresponding to the attribution list\n",
    "        for it_idx, it in enumerate(att_list):  # for each item in that attribution list\n",
    "            try:  # if the current item (it) is already in the all_attribution list\n",
    "                idx = all_attributions.index(it)\n",
    "                it_dur = durations_lists[att_l_idx][it_idx]\n",
    "                all_durations[idx] += str_to_timedelta(it_dur)\n",
    "#                 print(\"try\", all_attributions, all_durations)\n",
    "            except ValueError:  #  else\n",
    "                all_attributions.append(it)\n",
    "                it_dur = durations_lists[att_l_idx][it_idx]\n",
    "                all_durations.append(str_to_timedelta(it_dur))\n",
    "#                 print(\"except\", all_attributions, all_durations)\n",
    "\n",
    "    return all_attributions, all_durations\n",
    "\n",
    "consolidate_attributions_and_durations_lists(attributions_lists, durations_lists)"
   ]
  },
  {
   "cell_type": "code",
   "execution_count": 23,
   "metadata": {},
   "outputs": [
    {
     "data": {
      "text/plain": [
       "6300"
      ]
     },
     "execution_count": 23,
     "metadata": {},
     "output_type": "execute_result"
    }
   ],
   "source": [
    "3600+45*60"
   ]
  },
  {
   "cell_type": "code",
   "execution_count": 111,
   "metadata": {},
   "outputs": [
    {
     "name": "stdout",
     "output_type": "stream",
     "text": [
      "Mon 2019-12-30 - Sun 2020-01-05\n",
      "Mon 2019-12-23 - Sun 2019-12-29\n",
      "Mon 2019-12-16 - Sun 2019-12-22\n"
     ]
    }
   ],
   "source": [
    "weeks = 3\n",
    "input_date = datetime.datetime.strptime(\"2020-01-05\", DATE_FORMAT_YMD).date()\n",
    "\n",
    "one_day = timedelta(days=1)\n",
    "last_monday = input_date + timedelta(days=-input_date.weekday())  # takes the monday before the given date\n",
    "for w in range(weeks):\n",
    "    wk_monday = last_monday + timedelta(days=-7*w)\n",
    "    print(\"Mon\", wk_monday, \"- Sun\", wk_monday+timedelta(days=+6))\n",
    "    wk_range = [(wk_monday + i*one_day) for i in range(7)] "
   ]
  },
  {
   "cell_type": "code",
   "execution_count": 28,
   "metadata": {},
   "outputs": [
    {
     "data": {
      "image/png": "[encoded data removed]",
      "text/plain": [
       "<Figure size 1080x360 with 1 Axes>"
      ]
     },
     "metadata": {
      "needs_background": "light"
     },
     "output_type": "display_data"
    }
   ],
   "source": [
    "def get_attributions_and_durations(strdate):\n",
    "    try:\n",
    "        with open(join(JOURNALS_FOLDER, strdate+TXT_FORMAT), 'r', encoding=UTF8_ENCODING) as f:\n",
    "            daily_journal = f.read().strip()\n",
    "    except FileNotFoundError as e:\n",
    "        # if file is not found, return empty lists\n",
    "        return [],[]\n",
    "\n",
    "    duration_attribution_list = re.findall('\\^T([a-zA-Z0-9_-]+)=(\\d?\\d:\\d\\d)', daily_journal)  #TODO: include format 2.5 (for 2.5 hours = 2:30)\n",
    "\n",
    "    attributions = []\n",
    "    durations = []                                                                                                                                                                                      \n",
    "    for item in duration_attribution_list:\n",
    "        attributions.append(item[0])\n",
    "        durations.append(item[1])\n",
    "    \n",
    "    return attributions, durations\n",
    "\n",
    "attributions_lists = []\n",
    "durations_lists = []\n",
    "for day in [\"2020-11-01\", \"2020-11-02\", \"2020-11-03\", \"2020-11-04\", \"2020-11-05\"]:\n",
    "    attributions, durations = get_attributions_and_durations(day)\n",
    "    attributions_lists.append(attributions)\n",
    "    durations_lists.append(durations)\n",
    "atts, durs = consolidate_attributions_and_durations_lists(attributions_lists, durations_lists)\n",
    "\n",
    "plt.figure(figsize=(15,5))\n",
    "plt.bar(range(len(durs)), [dur.seconds/3600 for dur in durs], tick_label=atts)\n",
    "plt.xticks(rotation=-45, ha=\"left\");"
   ]
  },
  {
   "cell_type": "code",
   "execution_count": 82,
   "metadata": {},
   "outputs": [
    {
     "data": {
      "text/plain": [
       "(['ucsd_course_cogs203',\n",
       "  'ucsd',\n",
       "  'ucsd_admin',\n",
       "  'personal',\n",
       "  'sideways-investigation',\n",
       "  'ucsd_proj',\n",
       "  'ucsd_proj_meeting',\n",
       "  'ucsd_course_cogs201',\n",
       "  'ucsd_class',\n",
       "  'ucsd_admin_visa',\n",
       "  'rest',\n",
       "  'ucsd_course_cogs203_reading',\n",
       "  'ucsd_class_cogs203',\n",
       "  'ucsd_book-club_reading',\n",
       "  'ucsd_book-club'],\n",
       " [datetime.timedelta(seconds=23400),\n",
       "  datetime.timedelta(seconds=10500),\n",
       "  datetime.timedelta(seconds=11100),\n",
       "  datetime.timedelta(seconds=4200),\n",
       "  datetime.timedelta(seconds=2700),\n",
       "  datetime.timedelta(seconds=33300),\n",
       "  datetime.timedelta(seconds=3300),\n",
       "  datetime.timedelta(seconds=5100),\n",
       "  datetime.timedelta(seconds=10800),\n",
       "  datetime.timedelta(seconds=15000),\n",
       "  datetime.timedelta(seconds=900),\n",
       "  datetime.timedelta(seconds=20100),\n",
       "  datetime.timedelta(seconds=5400),\n",
       "  datetime.timedelta(seconds=5100),\n",
       "  datetime.timedelta(seconds=4500)])"
      ]
     },
     "execution_count": 82,
     "metadata": {},
     "output_type": "execute_result"
    }
   ],
   "source": [
    "atts, durs"
   ]
  },
  {
   "cell_type": "code",
   "execution_count": 99,
   "metadata": {},
   "outputs": [
    {
     "name": "stdout",
     "output_type": "stream",
     "text": [
      "ucsd\n",
      "ucsd\n",
      "ucsd\n",
      "personal\n",
      "sideways-investigation\n",
      "ucsd\n",
      "ucsd\n",
      "ucsd\n",
      "ucsd\n",
      "ucsd\n",
      "rest\n",
      "ucsd\n",
      "ucsd\n",
      "ucsd\n",
      "ucsd\n"
     ]
    },
    {
     "data": {
      "text/plain": [
       "datetime.timedelta(days=1, seconds=61200)"
      ]
     },
     "execution_count": 99,
     "metadata": {},
     "output_type": "execute_result"
    }
   ],
   "source": [
    "# l = zeros(len(atts), \"str\")\n",
    "lvl_1 = []\n",
    "for i_att, att in enumerate(atts):\n",
    "    print(att.split('_')[0])\n",
    "    lvl_1.append(att.split('_')[0])\n",
    "#     l[i_att] = att.split('_')[0]\n",
    "    \n",
    "indices = [i for i, x in enumerate(lvl_1) if x == \"ucsd\"]\n",
    "\n",
    "sum(array(durs)[array(indices)])\n"
   ]
  }
 ],
 "metadata": {
  "kernelspec": {
   "display_name": "Python 3",
   "language": "python",
   "name": "python3"
  },
  "language_info": {
   "codemirror_mode": {
    "name": "ipython",
    "version": 3
   },
   "file_extension": ".py",
   "mimetype": "text/x-python",
   "name": "python",
   "nbconvert_exporter": "python",
   "pygments_lexer": "ipython3",
   "version": "3.8.3"
  }
 },
 "nbformat": 4,
 "nbformat_minor": 4
}
