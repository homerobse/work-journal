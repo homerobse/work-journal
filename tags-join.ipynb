{
 "cells": [
  {
   "cell_type": "code",
   "execution_count": 59,
   "metadata": {},
   "outputs": [],
   "source": [
    "import matplotlib.pyplot as plt\n",
    "from view import *"
   ]
  },
  {
   "cell_type": "code",
   "execution_count": 23,
   "metadata": {},
   "outputs": [],
   "source": [
    "attributions1 = [\"t1\", \"t2\"]\n",
    "durations1 = [\"1:10\", \"0:15\"]\n",
    "\n",
    "\n",
    "attributions2 = [\"t1\", \"t3\"]\n",
    "durations2 = [\"0:35\", \"0:20\"]\n",
    "\n",
    "attributions3=[]\n",
    "durations3=[]\n"
   ]
  },
  {
   "cell_type": "code",
   "execution_count": 24,
   "metadata": {},
   "outputs": [
    {
     "data": {
      "text/plain": [
       "([['t1', 't2'], ['t1', 't3'], []], [['1:10', '0:15'], ['0:35', '0:20'], []])"
      ]
     },
     "execution_count": 24,
     "metadata": {},
     "output_type": "execute_result"
    }
   ],
   "source": [
    "attributions_lists = []\n",
    "attributions_lists.append(attributions1)\n",
    "attributions_lists.append(attributions2)\n",
    "attributions_lists.append(attributions3)\n",
    "\n",
    "durations_lists = []\n",
    "durations_lists.append(durations1)\n",
    "durations_lists.append(durations2)\n",
    "durations_lists.append(durations3)\n",
    "attributions_lists, durations_lists"
   ]
  },
  {
   "cell_type": "code",
   "execution_count": 58,
   "metadata": {},
   "outputs": [
    {
     "data": {
      "text/plain": [
       "(['ucsd_course_cogs203',\n",
       "  'ucsd',\n",
       "  'ucsd_admin',\n",
       "  'personal',\n",
       "  'sideways-investigation',\n",
       "  'ucsd_proj',\n",
       "  'ucsd_proj_meeting',\n",
       "  'ucsd_course_cogs201',\n",
       "  'ucsd_class'],\n",
       " [datetime.timedelta(seconds=23400),\n",
       "  datetime.timedelta(seconds=5400),\n",
       "  datetime.timedelta(seconds=7200),\n",
       "  datetime.timedelta(seconds=600),\n",
       "  datetime.timedelta(seconds=2700),\n",
       "  datetime.timedelta(seconds=21600),\n",
       "  datetime.timedelta(seconds=3300),\n",
       "  datetime.timedelta(seconds=900),\n",
       "  datetime.timedelta(seconds=10800)])"
      ]
     },
     "execution_count": 58,
     "metadata": {},
     "output_type": "execute_result"
    }
   ],
   "source": [
    "def consolidate_attributions_and_durations_lists(attributions_lists, durations_lists):\n",
    "    all_attributions = []\n",
    "    all_durations = []\n",
    "\n",
    "    for att_l_idx, att_list in enumerate(attributions_lists):  # att_l_idx indexes the day corresponding to the attribution list\n",
    "        for it_idx, it in enumerate(att_list):  # for each item in that attribution list\n",
    "            try:  # if the current item it is already in the all_attribution list\n",
    "                idx = all_attributions.index(it)\n",
    "                it_dur = durations_lists[att_l_idx][it_idx]\n",
    "                all_durations[idx] += str_to_timedelta(it_dur)\n",
    "#                 print(\"try\", all_attributions, all_durations)\n",
    "            except ValueError:  #  else\n",
    "                all_attributions.append(it)\n",
    "                it_dur = durations_lists[att_l_idx][it_idx]\n",
    "                all_durations.append(str_to_timedelta(it_dur))\n",
    "#                 print(\"except\", all_attributions, all_durations)\n",
    "\n",
    "    return all_attributions, all_durations\n",
    "\n",
    "consolidate_attributions_and_durations_lists(attributions_lists, durations_lists)"
   ]
  },
  {
   "cell_type": "code",
   "execution_count": 7,
   "metadata": {},
   "outputs": [
    {
     "data": {
      "text/plain": [
       "6300"
      ]
     },
     "execution_count": 7,
     "metadata": {},
     "output_type": "execute_result"
    }
   ],
   "source": [
    "3600+45*60"
   ]
  },
  {
   "cell_type": "code",
   "execution_count": 64,
   "metadata": {},
   "outputs": [
    {
     "data": {
      "text/plain": [
       "<BarContainer object of 15 artists>"
      ]
     },
     "execution_count": 64,
     "metadata": {},
     "output_type": "execute_result"
    },
    {
     "data": {
      "image/png": "[encoded data removed]",
      "text/plain": [
       "<Figure size 1080x360 with 1 Axes>"
      ]
     },
     "metadata": {
      "needs_background": "light"
     },
     "output_type": "display_data"
    }
   ],
   "source": [
    "def get_attributions_and_durations(strdate):\n",
    "    try:\n",
    "        with open(join(JOURNALS_FOLDER, strdate+TXT_FORMAT), 'r', encoding=UTF8_ENCODING) as f:\n",
    "            daily_journal = f.read().strip()\n",
    "    except FileNotFoundError as e:\n",
    "        return [],[]\n",
    "\n",
    "    duration_attribution_list = re.findall('\\^T([a-zA-Z0-9_-]+)=(\\d?\\d:\\d\\d)', daily_journal)  #TODO: include format 2.5 (for 2.5 hours = 2:30)\n",
    "\n",
    "    attributions = []\n",
    "    durations = []                                                                                                                                                                                      \n",
    "    for item in duration_attribution_list:\n",
    "        attributions.append(item[0])\n",
    "        durations.append(item[1])\n",
    "    \n",
    "    return attributions, durations\n",
    "\n",
    "attributions_lists = []\n",
    "durations_lists = []\n",
    "for day in [\"2020-11-01\", \"2020-11-02\", \"2020-11-03\", \"2020-11-04\", \"2020-11-05\"]:\n",
    "    attributions, durations = get_attributions_and_durations(day)\n",
    "    attributions_lists.append(attributions)\n",
    "    durations_lists.append(durations)\n",
    "atts, durs = consolidate_attributions_and_durations_lists(attributions_lists, durations_lists)\n",
    "\n",
    "plt.figure(figsize=(15,5))\n",
    "plt.bar(range(len(durs)), [dur.seconds/3600 for dur in durs], tick_label=atts)"
   ]
  }
 ],
 "metadata": {
  "kernelspec": {
   "display_name": "Python 3",
   "language": "python",
   "name": "python3"
  },
  "language_info": {
   "codemirror_mode": {
    "name": "ipython",
    "version": 3
   },
   "file_extension": ".py",
   "mimetype": "text/x-python",
   "name": "python",
   "nbconvert_exporter": "python",
   "pygments_lexer": "ipython3",
   "version": "3.8.3"
  }
 },
 "nbformat": 4,
 "nbformat_minor": 4
}
