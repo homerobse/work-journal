{
 "cells": [
  {
   "cell_type": "code",
   "execution_count": 2,
   "metadata": {},
   "outputs": [],
   "source": [
    "from view import *"
   ]
  },
  {
   "cell_type": "code",
   "execution_count": 7,
   "metadata": {},
   "outputs": [],
   "source": [
    "EXAMPLE_JOURNAL = \"\"\"\n",
    "* write down reward modulated learning rule and include sketch figure                                                                                           * generate plot showing result of reward modulated learning for all layers                                                                                      * finish neurodynamics chapter 3 -> partially done, read just section 3.3                                                                                                                                                                                                                                                       done:                                                                                                                                                           * testing markdown desktop editor vnote                                                                                                                         * read neurodynamics section 3.3                                                                                                                                * improve Cell class to get cell id using cell_session_id and folder name (fname)s                                                                              * trying to understand why the position tracking from mat doesn't match the whl file. And the starting value for the plot isn't matching the one intended                                                                                                                                                                       ^Tprocrastination=0:30                                                                                                                                          ^Treading=5:20                                                                                                                                                  ^Tufrn=3:05                                                                                                                                                     ^Tpersonal=0:10                                                                                                                                                 ^Tmaiseducacao=0:15                                                                                                                                                                                                                                                                                                             \n",
    "^A10:25^L11:45\n",
    "^A12:50^E17:30\n",
    "^S18:45^L22:15\"\"\""
   ]
  },
  {
   "cell_type": "code",
   "execution_count": 3,
   "metadata": {},
   "outputs": [],
   "source": [
    "def check_worktimes(text):  \n",
    "    arrivals = re.findall('\\^A(\\d?\\d:\\d\\d)', text)\n",
    "    leavings = re.findall('\\^L(\\d?\\d:\\d\\d)', text)\n",
    "    start = re.findall('\\^S(\\d?\\d:\\d\\d)', text)\n",
    "    end = re.findall('\\^E(\\d?\\d:\\d\\d)', text)\n",
    "    return arrivals, leavings, start, end "
   ]
  },
  {
   "cell_type": "code",
   "execution_count": 8,
   "metadata": {},
   "outputs": [
    {
     "data": {
      "text/plain": [
       "(['10:25', '12:50'], ['11:45', '22:15'], ['18:45'], ['17:30'])"
      ]
     },
     "execution_count": 8,
     "metadata": {},
     "output_type": "execute_result"
    }
   ],
   "source": [
    "check_worktimes(EXAMPLE_JOURNAL)"
   ]
  },
  {
   "cell_type": "code",
   "execution_count": 9,
   "metadata": {},
   "outputs": [],
   "source": [
    "from matplotlib.pyplot import *"
   ]
  },
  {
   "cell_type": "code",
   "execution_count": 32,
   "metadata": {},
   "outputs": [
    {
     "name": "stdout",
     "output_type": "stream",
     "text": [
      "10.416666666666666 12.833333333333334\n",
      "17.5 18.75\n"
     ]
    },
    {
     "data": {
      "image/png": "[encoded data removed]",
      "text/plain": [
       "<Figure size 432x288 with 1 Axes>"
      ]
     },
     "metadata": {
      "needs_background": "light"
     },
     "output_type": "display_data"
    }
   ],
   "source": [
    "for s,e in [(10+5/12, 12+5/6), (17.5, 18+45/60)]:\n",
    "    print (s,e)\n",
    "    bar(1, e-s, bottom=s, color='gray')\n",
    "#     bar(1, 6, bottom=)"
   ]
  }
 ],
 "metadata": {
  "kernelspec": {
   "display_name": "Python 3",
   "language": "python",
   "name": "python3"
  },
  "language_info": {
   "codemirror_mode": {
    "name": "ipython",
    "version": 3
   },
   "file_extension": ".py",
   "mimetype": "text/x-python",
   "name": "python",
   "nbconvert_exporter": "python",
   "pygments_lexer": "ipython3",
   "version": "3.8.3"
  }
 },
 "nbformat": 4,
 "nbformat_minor": 4
}
