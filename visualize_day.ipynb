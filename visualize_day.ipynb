{
 "cells": [
  {
   "cell_type": "code",
   "execution_count": 1,
   "metadata": {},
   "outputs": [],
   "source": [
    "from view import *\n",
    "import datetime\n",
    "from matplotlib.pyplot import *"
   ]
  },
  {
   "cell_type": "code",
   "execution_count": 40,
   "metadata": {},
   "outputs": [],
   "source": [
    "EXAMPLE_JOURNAL = \"\"\"\n",
    "* write down reward modulated learning rule and include sketch figure                                                                                           * generate plot showing result of reward modulated learning for all layers                                                                                      * finish neurodynamics chapter 3 -> partially done, read just section 3.3                                                                                                                                                                                                                                                       done:                                                                                                                                                           * testing markdown desktop editor vnote                                                                                                                         * read neurodynamics section 3.3                                                                                                                                * improve Cell class to get cell id using cell_session_id and folder name (fname)s                                                                              * trying to understand why the position tracking from mat doesn't match the whl file. And the starting value for the plot isn't matching the one intended                                                                                                                                                                       ^Tprocrastination=0:30                                                                                                                                          ^Treading=5:20                                                                                                                                                  ^Tufrn=3:05                                                                                                                                                     ^Tpersonal=0:10                                                                                                                                                 ^Tmaiseducacao=0:15                                                                                                                                                                                                                                                                                                             \n",
    "^A10:25^L11:45\n",
    "^A14:50^E17:30\n",
    "^S18:45^L22:15\n",
    "^S23:50^E2:50\n",
    "^S3:20^E4:00\"\"\"\n",
    "\n",
    "EXAMPLE_JOURNAL_2 = \"\"\"\n",
    "* write down reward modulated learning rule and include sketch figure                                                                                           * generate plot showing result of reward modulated learning for all layers                                                                                      * finish neurodynamics chapter 3 -> partially done, read just section 3.3                                                                                                                                                                                                                                                       done:                                                                                                                                                           * testing markdown desktop editor vnote                                                                                                                         * read neurodynamics section 3.3                                                                                                                                * improve Cell class to get cell id using cell_session_id and folder name (fname)s                                                                              * trying to understand why the position tracking from mat doesn't match the whl file. And the starting value for the plot isn't matching the one intended                                                                                                                                                                       ^Tprocrastination=0:30                                                                                                                                          ^Treading=5:20                                                                                                                                                  ^Tufrn=3:05                                                                                                                                                     ^Tpersonal=0:10                                                                                                                                                 ^Tmaiseducacao=0:15                                                                                                                                                                                                                                                                                                             \n",
    "^A10:25^L11:45\n",
    "^A14:50^E17:30\n",
    "^S18:45^L22:15\n",
    "^S23:50^E2:50\n",
    "^S3:20^E4:00\"\"\"\n",
    "\n",
    "EMPTY_JOURNAL = \"\"\n",
    "\n",
    "example_journals = [EXAMPLE_JOURNAL, EXAMPLE_JOURNAL_2, EXAMPLE_JOURNAL_2, \n",
    "            EXAMPLE_JOURNAL_2, EXAMPLE_JOURNAL_2, EXAMPLE_JOURNAL_2, EXAMPLE_JOURNAL_2]\n",
    "# example_journals"
   ]
  },
  {
   "cell_type": "code",
   "execution_count": 3,
   "metadata": {},
   "outputs": [],
   "source": [
    "def check_worktimes(text):  \n",
    "#     arrivals = re.findall('\\^A(\\d?\\d:\\d\\d)', text)\n",
    "#     leavings = re.findall('\\^L(\\d?\\d:\\d\\d)', text)\n",
    "#     starts = re.findall('\\^S(\\d?\\d:\\d\\d)', text)\n",
    "#     ends = re.findall('\\^E(\\d?\\d:\\d\\d)', text)\n",
    "#     return arrivals, leavings, starts, ends \n",
    "    starts = re.findall('\\^[SA](\\d?\\d:\\d\\d)', text)\n",
    "    ends = re.findall('\\^[EL](\\d?\\d:\\d\\d)', text)\n",
    "    return starts, ends "
   ]
  },
  {
   "cell_type": "code",
   "execution_count": 4,
   "metadata": {},
   "outputs": [
    {
     "data": {
      "text/plain": [
       "([], [])"
      ]
     },
     "execution_count": 4,
     "metadata": {},
     "output_type": "execute_result"
    }
   ],
   "source": [
    "starts, ends = check_worktimes(EMPTY_JOURNAL)\n",
    "starts, ends"
   ]
  },
  {
   "cell_type": "code",
   "execution_count": 5,
   "metadata": {},
   "outputs": [
    {
     "data": {
      "text/plain": [
       "(['10:25', '14:50', '18:45', '23:50', '3:20'],\n",
       " ['11:45', '17:30', '22:15', '2:50', '4:00'])"
      ]
     },
     "execution_count": 5,
     "metadata": {},
     "output_type": "execute_result"
    }
   ],
   "source": [
    "starts, ends = check_worktimes(EXAMPLE_JOURNAL)\n",
    "starts, ends"
   ]
  },
  {
   "cell_type": "code",
   "execution_count": 39,
   "metadata": {},
   "outputs": [
    {
     "name": "stdout",
     "output_type": "stream",
     "text": [
      "['10:25', '14:50', '18:45', '23:50', '3:20'] \n",
      " ['11:45', '17:30', '22:15', '2:50', '4:00']\n"
     ]
    },
    {
     "data": {
      "text/plain": [
       "[(10.416666666666666, 1.3333333333333333),\n",
       " (14.833333333333334, 2.6666666666666665),\n",
       " (18.75, 3.5),\n",
       " (23.833333333333332, 3.0),\n",
       " (3.3333333333333335, 0.6666666666666666)]"
      ]
     },
     "execution_count": 39,
     "metadata": {},
     "output_type": "execute_result"
    }
   ],
   "source": [
    "def create_workblocks_from_worktimes(starts, ends):\n",
    "    \"\"\"\n",
    "    starts: list of start times\n",
    "    ends: list of end times\n",
    "    return: work_blocks: list of (start_times, duration)\n",
    "    \"\"\"\n",
    "    work_blocks = []\n",
    "    for idx in range(len(starts)):  # create work blocks from work_times\n",
    "        start = str_to_timedelta(starts[idx])\n",
    "        end = str_to_timedelta(ends[idx])\n",
    "        duration = end-start\n",
    "        start_hr =  start.seconds/3600\n",
    "        duration_hr =  duration.seconds/3600\n",
    "        work_blocks.append((start_hr, duration_hr))\n",
    "    return work_blocks\n",
    "    \n",
    "starts, ends = check_worktimes(EXAMPLE_JOURNAL)\n",
    "print(starts, '\\n', ends)\n",
    "entries = create_workblocks_from_worktimes(starts,ends)\n",
    "entries"
   ]
  },
  {
   "cell_type": "code",
   "execution_count": 7,
   "metadata": {},
   "outputs": [
    {
     "name": "stdout",
     "output_type": "stream",
     "text": [
      "10.416666666666666 1.3333333333333333\n",
      "14.833333333333334 2.6666666666666665\n",
      "18.75 3.5\n",
      "23.833333333333332 3.0\n",
      "3.3333333333333335 0.6666666666666666\n"
     ]
    },
    {
     "data": {
      "image/png": "[encoded data removed]",
      "text/plain": [
       "<Figure size 432x288 with 1 Axes>"
      ]
     },
     "metadata": {
      "needs_background": "light"
     },
     "output_type": "display_data"
    }
   ],
   "source": [
    "day = 1\n",
    "for entry in entries:\n",
    "    start, dur = entry\n",
    "    print(start, dur)\n",
    "#     if start >= 24: \n",
    "#         day = 2\n",
    "    bar(day, dur, bottom=start, color='gray')\n",
    "    if start <24 and start+dur>24:\n",
    "        bar(day, 24-start, bottom=start, color='gray')\n",
    "        day +=1\n",
    "        bar(day, start+dur-24, bottom=0, color='gray')\n",
    "        \n",
    "plt.xticks([1,2],['Monday','Tuesday']);"
   ]
  },
  {
   "cell_type": "markdown",
   "metadata": {},
   "source": [
    "# Week"
   ]
  },
  {
   "cell_type": "code",
   "execution_count": 25,
   "metadata": {},
   "outputs": [
    {
     "data": {
      "text/plain": [
       "[datetime.date(2021, 2, 22),\n",
       " datetime.date(2021, 2, 23),\n",
       " datetime.date(2021, 2, 24),\n",
       " datetime.date(2021, 2, 25),\n",
       " datetime.date(2021, 2, 26),\n",
       " datetime.date(2021, 2, 27),\n",
       " datetime.date(2021, 2, 28)]"
      ]
     },
     "execution_count": 25,
     "metadata": {},
     "output_type": "execute_result"
    }
   ],
   "source": [
    "n_weeks=1\n",
    "one_day = timedelta(days=1)\n",
    "# today = datetime.today()\n",
    "today = datetime.date(2021,2,22)\n",
    "last_monday = today + timedelta(days=-today.weekday())\n",
    "for w in range(n_weeks):\n",
    "    wk_monday = last_monday + timedelta(days=-7*w)\n",
    "    wk_range = [(wk_monday + i*one_day) for i in range(7)]  # all days of the week from Monday to Sunday\n",
    "    wrk_hrs, ref_hrs, avg_per_day = calc_worked_time_in_date_range(wk_range)\n",
    "wk_range"
   ]
  },
  {
   "cell_type": "code",
   "execution_count": 26,
   "metadata": {},
   "outputs": [
    {
     "data": {
      "text/plain": [
       "[\"done:\\n* general\\n  - chat with Marcelo about rotations\\n  - meet Terry Sejnowski about rotation in his lab\\n    - He mentioned his student Robert Kim - decision, delay period, we read his paper about using ML to find new circuit motif that creates delayed period activity\\n    - Ben Tsuda\\n    - mentioned that the hippocampus is similar to cortex: \\n      - ca3 - l2/3\\n      - ca1 - l4/6\\n      - dg - l4\\n      - I didn't understand very well the mapping\\n    - Asked me to check https://science.sciencemag.org/content/357/6355/1033?rss=1 and schedule another chat with Yusi to come up with a project\\n      - rough idea about the paper: 1s interval between distal and basal inputs, if inputs come, place cell is formed\\n* read Hertz chapter section about Boltzman machine\\n* prepare presentation\\n\\n^Tucsd=0:55\\n^Tucsd_yu-jc=5:30\\n^Tucsd_yu-jc_meeting=1:15\\n^Tucsd_class_cogs202=0:10\\n^Tmaiseducacao=0:55\\n^Tucsd_mattarlab_mouse-maze=2:05\\n^Tucsd_book-club_rl_reading=0:10\\n\\n^S12:15^E13:00\\n^S13:45^E21:30\\n^S22:00^E0:15\\n\\n--- weekplan\\n- presentation Hertz\\n* presentation Bishop\\n* review paper Gossberg\\n\\n--- standing desk\\nhttps://www.google.com/search?q=use+monitor+standing&rlz=1C1CHBF_en-GBGB772GB772&sxsrf=ALeKk01CH3cFD_3OUEIxNtmUc1hqsQtdtA:1614020852613&tbm=isch&source=iu&ictx=1&fir=rZVgploOIpO0rM%252CqsRp45oQiRDRJM%252C_&vet=1&usg=AI4_-kS3zoDyn8vNHhI2BpwFjU9zh_yckw&sa=X&ved=2ahUKEwiqxdGcmP7uAhWQE7kGHbNOBpcQ9QF6BAgxEAE#imgrc=iC7lkl7loJiSwM\",\n",
       " '* read Bishop ^t=2:00\\n\\ndone:\\n* general\\n  - chat with Caze about review and about rotation with Terry\\n  - check Bill Podlaski\\'s recent arxiv\\'s\\n  - check Tim Vogels\\' website at IST and some twitter posts\\n* grade homeworks\\n* review my submitted exercises\\n* sideways investigation: checking who are the editors for the issue of the frontiers paper we are reviewing\\n* read Grossberg\\n\\n^Tprocrastination=2:05\\n^Tucsd=0:45\\n^Tucsd_email=0:10\\n^Tucsd_course_cogs202=2:35\\n^Trest=0:15\\n^Tucsd_mattarlab_peer-review_reading=7:15\\n^Tucsd_mattarlab_peer-review_meeting=0:30\\n^Tsideways-investigation=0:30\\n\\n^S9:40^E13:20\\n^S15:20^E21:00\\n^S22:25^E0:05\\n^S0:10^E3:05\\n\\n--- weekplan\\n* presentation Bishop\\n* review paper Gossberg\\n- presentation Hertz\\n\\n\\n--- msg to Angela\\nHi Angela,\\n\\ncan you send the NSF proposal review criteria you used to use for peer-reviewing final presentations? I got curious. It would indeed have been an interesting exercise.\\n\\n\\n--- chat with Marcelo\\nMarcelo about working with Terry Sejnowski\\n\"I think that the opportunity with Terry is good only if you can meet with him. After a few 1-1 meetings with Terry, showing good work, you can build a good reputation with him and get lots of insights from him, including good project ideas, good collaborations, good datasets to work on\\nAnd honestly, good career advice. He’s one of the most successful computational neuroscientists alive\\nI think you should try to blow his mind\"\\n\\n\\n--- chat about PhD course and research\\nVijay Veerabadran\\n\\n--- chat with Marcelo about writing a review\\nstructure of a review\\n1st para: description of the main claims of the paper, restate what they did.\\n2nd para: compliment, one or two good things about the paper. My main comment is <summary of main points>\\n2 blocks of bullet points:\\n* main points\\n* minor points\\n\\n\\n1st read: understand and have notes on what is confusing\\n2nd read: draft review simultaneously as I read',\n",
       " 'done:\\n* admin\\n  - request to use cogs 260 with Marcelo Mattar as Stats requirement\\n  - check UCSD spring courses\\n  - check fellowships\\n  - check UCSD Health\\n* read Bishop ^t2:00\\n* read Bishop ^t2:00\\n* read Bishop ^t2:00\\n\\n^Tucsd=0:10\\n^Tucsd_admin=1:30\\n^Tucsd_social=0:25\\n^Tucsd_mattarlab_peer-review=0:25\\n^Tucsd_book-club_bishop_reading=6:40\\n^Tpersonal=0:10\\n^Tprocrastination=0:45\\n^Tucsd_mattarlab_ti=0:15\\n\\n^S14:40^E16:30\\n^S17:35^E18:10\\n^S18:40^E21:40\\n^S22:10^E22:20\\n^S22:25^E3:25\\n\\n--- Fellowships\\nhttps://grad.ucsd.edu/financial/fellowships/funding-opportunties/index.html',\n",
       " '* read Bishop ^t2:00\\n\\ndone:\\n* read Bishop ^t2:00\\n* read Bishop ^t2:00\\n* prepare slides\\n* present\\n\\n^Tucsd_social=0:05\\n^Tucsd_book-club_bishop=0:55\\n^Tucsd_book-club_bishop_meeting=1:50\\n^Tucsd_book-club_bishop_reading=4:05\\n^Tprocrastination=0:25\\n^Tucsd=0:15\\n^Trest=0:10\\n\\n^S9:50^E10:50\\n^S13:05^E13:35\\n^S14:50^E21:05\\n\\n--- weekplan\\n- presentation Bishop\\n* review paper Gossberg\\n- presentation Hertz',\n",
       " \"* read Grossberg\\n\\ndone:\\n* update histogram to be of total time rather than mazetime\\n* started looking into waterport visits in between rwd deliveries\\n* submit cogs202 hw\\n\\n^Tucsd=0:10\\n^Tucsd_course_cogs202=1:45\\n^Tpersonal=0:15\\n^Tprocrastination=0:15\\n^Tucsd_mattarlab_peer-review_reading=2:45\\n^Tucsd_book-club_bishop_reading=0:25\\n^Tucsd_mattarlab_mouse-maze=2:35\\n^Trest=0:25\\n^Ttech=0:15\\n^Tucsd_sejnowskilab=0:50\\n^Tucsd_labmeeting=1:30\\n^Tucsd_class_bggn246=2:10\\n\\n^S10:00^E13:30\\n^S13:50^E23:40\\n\\n--- weekplan\\n* review paper Gossberg\\n- presentation Bishop\\n- presentation Hertz\\n\\n--- organization\\nI thought that the deadline for the hw was at 17h BRT and I only started working on it at 16:30, only to be desperate realizing that I wouldn't be able to answer it on time. Fortunately, the deadline was at 22h BRT. But this tells me that I have to prepare better.\",\n",
       " '* write minor points\\n* write intro paragraph\\n* write second paragraph\\n\\ndone:\\n* finish reading Grossberb\\n* general\\n  - checking paper Marcelo reviewed: https://link.springer.com/article/10.3758/s13415-020-00842-0\\n\\n^Trest=0:15\\n^Tucsd_mattarlab_peer-review_reading=5:50\\n^Tucsd_mattarlab_peer-review=0:35\\n^Tucsd=0:15\\n\\n^S9:30^E9:50\\n^S10:50^E14:25\\n^S14:35^E15:40\\n^S16:20^E16:25\\n^S19:30^E21:10\\n\\n\\n--- dedication to peer-review\\n25:05 total hours (counting 3:40 today)',\n",
       " 'done:\\n* meet Marcelo and discuss major points\\n* general\\n  - check Stephen Grossberg scopus\\n  - reply Jing-Jing\\n* re-read most of the article\\n* write minor points\\n* write intro paragraph\\n* write second paragraph\\n\\n^Trest=0:40\\n^Tucsd_mattarlab_peer-review=12:55\\n^Tucsd_mattarlab_peer-review_meeting=2:20\\n^Tsocial=0:10\\n^Tucsd=0:20\\n^Tuscd_admin=0:15\\n^Tucsd_proj=0:05\\n^Tucsd_course_cogs202=0:05\\n^Tprocrastination=0:20\\n\\n^S9:30^E11:05\\n^S11:25^E12:25\\n^S12:40^E16:35\\n^S18:50^E20:20\\n^S21:00^E23:20\\n^S23:45^E5:25\\n\\n\\n--- meeting with Marcelo\\n\\n* check what is processing negativity\\n* on-center off-surround definition (fig 7)\\n\\n## deep work\\n3h of coding/writing\\n3h of research (coding/writing)\\n\\n\\n--- summary of grossberg\\n\\n1 intro\\n2 discovery of theta rhythm\\n3 Effects on grid cells of inactivating medial septum and the theta rhythm\\n\\n3.2 argues that reduction of ACh input to grid cells cause their collapse\\n3.4 ACh controls vigilance parameter. Release of ACh means reset. Layer 5 receives it. Maybe Layer 5 is the category layer in cortex? SMART model\\n\\n3.6 Gamma=PN=match, beta=N200=mismatch\\n3.7 some place cells lose stability when grid cells collapse due to lack of extrinsic theta rhythm\\n3.8 Basal ganglia can modulate extrinsic theta rhythm via disinhibition\\nSimilar to a CPG, this disinhibition can control the frequency of the oscillation\\n\\n4 Intrinsic theta rhythm dissociates learned read-out from read-in, avoiding catastrophic forgetting\\n\\n5 Category learning: theta, gamma and beta oscillations\\n\\n\\n\\nTheir claims in the abstract: \\ntheta rhythms organize brain information processing into temporal series of spatial patterns\\nhow parallel cortical streams through the lateral entorhinal cortex (LEC) and the medial entorhinal cortex (MEC) represent the end-points of the What and where pathways\\nGamma and beta relations with theta\\nBeta arise when there is a mismatch\\nGamma when there is a match\\n\\nThey argue the ACh modulates vigilance control, and it then can control how stringent will be category learning.\\n\\nIntrinsic theta sequence dissociates read-in from read-out: avoids catastrophic forgetting.']"
      ]
     },
     "execution_count": 26,
     "metadata": {},
     "output_type": "execute_result"
    }
   ],
   "source": [
    "def get_journal_for_strdate(strdate):\n",
    "    \"\"\"Extract total work time from given date\n",
    "    param strdate: data in string format YYYY-MM-DD\n",
    "    return (str) work_time (format HH:MM)\n",
    "    \"\"\"\n",
    "    try:\n",
    "        with open(join(JOURNALS_FOLDER, strdate+TXT_FORMAT), 'r', encoding=UTF8_ENCODING) as f:\n",
    "            text = f.read().strip()\n",
    "    except FileNotFoundError as e:\n",
    "        text = \"\"\n",
    "    return text\n",
    "\n",
    "wk_journals = [get_journal_for_strdate(dt.strftime(DATE_FORMAT_YMD)) for dt in wk_range]\n",
    "wk_journals"
   ]
  },
  {
   "cell_type": "code",
   "execution_count": 35,
   "metadata": {},
   "outputs": [
    {
     "name": "stdout",
     "output_type": "stream",
     "text": [
      "----- 2021-02-22\n",
      "12.25 0.75\n",
      "13.75 7.75\n",
      "22.0 2.25\n",
      "----- 2021-02-23\n",
      "9.666666666666666 3.6666666666666665\n",
      "15.333333333333334 5.666666666666667\n",
      "22.416666666666668 1.6666666666666667\n",
      "0.16666666666666666 2.9166666666666665\n",
      "----- 2021-02-24\n",
      "14.666666666666666 1.8333333333333333\n",
      "17.583333333333332 0.5833333333333334\n",
      "18.666666666666668 3.0\n",
      "22.166666666666668 0.16666666666666666\n",
      "22.416666666666668 5.0\n",
      "----- 2021-02-25\n",
      "9.833333333333334 1.0\n",
      "13.083333333333334 0.5\n",
      "14.833333333333334 6.25\n",
      "----- 2021-02-26\n",
      "10.0 3.5\n",
      "13.833333333333334 9.833333333333334\n",
      "----- 2021-02-27\n",
      "9.5 0.3333333333333333\n",
      "10.833333333333334 3.5833333333333335\n",
      "14.583333333333334 1.0833333333333333\n",
      "16.333333333333332 0.08333333333333333\n",
      "19.5 1.6666666666666667\n",
      "----- 2021-02-28\n",
      "9.5 1.5833333333333333\n",
      "11.416666666666666 1.0\n",
      "12.666666666666666 3.9166666666666665\n",
      "18.833333333333332 1.5\n",
      "21.0 2.3333333333333335\n",
      "23.75 5.666666666666667\n"
     ]
    },
    {
     "data": {
      "image/png": "[encoded data removed]",
      "text/plain": [
       "<Figure size 1008x432 with 1 Axes>"
      ]
     },
     "metadata": {
      "needs_background": "light"
     },
     "output_type": "display_data"
    }
   ],
   "source": [
    "journals = wk_journals\n",
    "# journals = example_journals\n",
    "\n",
    "# one color per day of the week\n",
    "COLORS=[\"tab:blue\", \"tab:orange\", \"tab:green\", \"tab:red\", \"tab:purple\", \"tab:brown\", \"tab:pink\"]\n",
    "\n",
    "plt.figure(figsize=(14,6))\n",
    "for day, journal in enumerate(journals):\n",
    "    print(\"-----\", wk_range[day].strftime(DATE_FORMAT_YMD))\n",
    "    starts, ends = check_worktimes(journals[day])\n",
    "    \n",
    "    work_blocks = create_workblocks_from_worktimes(starts,ends)\n",
    "        \n",
    "    previous_end = 0\n",
    "    for work_block in work_blocks: # plot workblocks for a day\n",
    "        start, dur = work_block\n",
    "        print(start, dur)\n",
    "        if start <24 and start+dur>24:\n",
    "            bar(day, 24-start, bottom=start, color=COLORS[day])\n",
    "            day +=1\n",
    "            bar(day, start+dur-24, bottom=0, color=COLORS[day-1])    \n",
    "        elif previous_end > start:\n",
    "            day +=1\n",
    "            bar(day, dur, bottom=start, color=COLORS[day-1])    \n",
    "        else:\n",
    "            bar(day, dur, bottom=start, color=COLORS[day])\n",
    "            \n",
    "        if start+dur<24:  # set previous_end\n",
    "            previous_end = start+dur\n",
    "        else:\n",
    "            previous_end = start+dur - 24\n",
    "\n",
    "str_monday = wk_range[0].strftime(DATE_FORMAT_YMD)\n",
    "str_sunday = wk_range[-1].strftime(DATE_FORMAT_YMD)\n",
    "plt.title(\"Week %s - %s\" % (str_monday, str_sunday))\n",
    "plt.xticks(range(8),['Monday\\n%s' % str_monday,'Tuesday', 'Wednesday', 'Thursday', 'Friday', 'Saturday', 'Sunday\\n%s' % str_sunday, 'Monday']);\n",
    "plt.yticks(range(25))\n",
    "plt.grid(True, axis='y', alpha=0.5)"
   ]
  },
  {
   "cell_type": "markdown",
   "metadata": {},
   "source": [
    "### Change timedelta class\n",
    "This could potentially be used to obviate the use of the str_to_timedelta and timedelta_to_str"
   ]
  },
  {
   "cell_type": "code",
   "execution_count": 13,
   "metadata": {},
   "outputs": [
    {
     "name": "stdout",
     "output_type": "stream",
     "text": [
      "0:22\n"
     ]
    }
   ],
   "source": [
    "class h_td (timedelta):\n",
    "    def __new__(self, *args, **kwargs):\n",
    "        str_time=kwargs.pop('str_time', None)\n",
    "        obj =  super().__new__(self, *args, **kwargs)\n",
    "#         if str_time is not None:\n",
    "#             obj.seconds = int(str_time.split(\":\")[0]) * 3600 + int(str_time.split(\":\")[1]) * 60\n",
    "        return obj\n",
    "    def __init__(self, *args, **kwargs):\n",
    "        str_time=kwargs.pop('str_time', None)\n",
    "# #             super().__init__(seconds=int(kwargs['str_time'].split(\":\")[0]) * 3600 + int(kwargs['str_time'].split(\":\")[1]) * 60)\n",
    "# #         else:\n",
    "        super().__init__()\n",
    "        if str_time is not None:\n",
    "            self.seconds=int(str_time.split(\":\")[0]) * 3600 + int(str_time.split(\":\")[1]) * 60\n",
    "    def __str__(self):\n",
    "        return \"%d:%02d\" % (self.days*24 + self.seconds//3600, ((self.seconds // 60) % 60))\n",
    "print(h_td(seconds=1320))"
   ]
  },
  {
   "cell_type": "code",
   "execution_count": 95,
   "metadata": {},
   "outputs": [
    {
     "data": {
      "text/plain": [
       "'12:10'"
      ]
     },
     "execution_count": 95,
     "metadata": {},
     "output_type": "execute_result"
    }
   ],
   "source": [
    "timedelta_to_str(timedelta(hours=12, minutes=10))"
   ]
  },
  {
   "cell_type": "code",
   "execution_count": 59,
   "metadata": {},
   "outputs": [
    {
     "data": {
      "text/plain": [
       "'12:10'"
      ]
     },
     "execution_count": 59,
     "metadata": {},
     "output_type": "execute_result"
    }
   ],
   "source": [
    "timedelta_to_str(h_td(seconds=12*3600+10*60))"
   ]
  },
  {
   "cell_type": "code",
   "execution_count": 91,
   "metadata": {},
   "outputs": [
    {
     "ename": "AttributeError",
     "evalue": "readonly attribute",
     "output_type": "error",
     "traceback": [
      "\u001b[0;31m---------------------------------------------------------------------------\u001b[0m",
      "\u001b[0;31mAttributeError\u001b[0m                            Traceback (most recent call last)",
      "\u001b[0;32m<ipython-input-91-e4ab931be922>\u001b[0m in \u001b[0;36m<module>\u001b[0;34m\u001b[0m\n\u001b[0;32m----> 1\u001b[0;31m \u001b[0mh_td\u001b[0m\u001b[0;34m(\u001b[0m\u001b[0mstr_time\u001b[0m\u001b[0;34m=\u001b[0m\u001b[0;34m\"12:10\"\u001b[0m\u001b[0;34m)\u001b[0m\u001b[0;34m\u001b[0m\u001b[0;34m\u001b[0m\u001b[0m\n\u001b[0m",
      "\u001b[0;32m<ipython-input-90-d51721626b6a>\u001b[0m in \u001b[0;36m__new__\u001b[0;34m(self, *args, **kwargs)\u001b[0m\n\u001b[1;32m      4\u001b[0m         \u001b[0mobj\u001b[0m \u001b[0;34m=\u001b[0m  \u001b[0msuper\u001b[0m\u001b[0;34m(\u001b[0m\u001b[0;34m)\u001b[0m\u001b[0;34m.\u001b[0m\u001b[0m__new__\u001b[0m\u001b[0;34m(\u001b[0m\u001b[0mself\u001b[0m\u001b[0;34m,\u001b[0m \u001b[0;34m*\u001b[0m\u001b[0margs\u001b[0m\u001b[0;34m,\u001b[0m \u001b[0;34m**\u001b[0m\u001b[0mkwargs\u001b[0m\u001b[0;34m)\u001b[0m\u001b[0;34m\u001b[0m\u001b[0;34m\u001b[0m\u001b[0m\n\u001b[1;32m      5\u001b[0m         \u001b[0;32mif\u001b[0m \u001b[0mstr_time\u001b[0m \u001b[0;32mis\u001b[0m \u001b[0;32mnot\u001b[0m \u001b[0;32mNone\u001b[0m\u001b[0;34m:\u001b[0m\u001b[0;34m\u001b[0m\u001b[0;34m\u001b[0m\u001b[0m\n\u001b[0;32m----> 6\u001b[0;31m             \u001b[0mobj\u001b[0m\u001b[0;34m.\u001b[0m\u001b[0mseconds\u001b[0m \u001b[0;34m=\u001b[0m \u001b[0mint\u001b[0m\u001b[0;34m(\u001b[0m\u001b[0mstr_time\u001b[0m\u001b[0;34m.\u001b[0m\u001b[0msplit\u001b[0m\u001b[0;34m(\u001b[0m\u001b[0;34m\":\"\u001b[0m\u001b[0;34m)\u001b[0m\u001b[0;34m[\u001b[0m\u001b[0;36m0\u001b[0m\u001b[0;34m]\u001b[0m\u001b[0;34m)\u001b[0m \u001b[0;34m*\u001b[0m \u001b[0;36m3600\u001b[0m \u001b[0;34m+\u001b[0m \u001b[0mint\u001b[0m\u001b[0;34m(\u001b[0m\u001b[0mstr_time\u001b[0m\u001b[0;34m.\u001b[0m\u001b[0msplit\u001b[0m\u001b[0;34m(\u001b[0m\u001b[0;34m\":\"\u001b[0m\u001b[0;34m)\u001b[0m\u001b[0;34m[\u001b[0m\u001b[0;36m1\u001b[0m\u001b[0;34m]\u001b[0m\u001b[0;34m)\u001b[0m \u001b[0;34m*\u001b[0m \u001b[0;36m60\u001b[0m\u001b[0;34m\u001b[0m\u001b[0;34m\u001b[0m\u001b[0m\n\u001b[0m\u001b[1;32m      7\u001b[0m         \u001b[0;32mreturn\u001b[0m \u001b[0mobj\u001b[0m\u001b[0;34m\u001b[0m\u001b[0;34m\u001b[0m\u001b[0m\n\u001b[1;32m      8\u001b[0m     \u001b[0;32mdef\u001b[0m \u001b[0m__init__\u001b[0m\u001b[0;34m(\u001b[0m\u001b[0mself\u001b[0m\u001b[0;34m,\u001b[0m \u001b[0;34m*\u001b[0m\u001b[0margs\u001b[0m\u001b[0;34m,\u001b[0m \u001b[0;34m**\u001b[0m\u001b[0mkwargs\u001b[0m\u001b[0;34m)\u001b[0m\u001b[0;34m:\u001b[0m\u001b[0;34m\u001b[0m\u001b[0;34m\u001b[0m\u001b[0m\n",
      "\u001b[0;31mAttributeError\u001b[0m: readonly attribute"
     ]
    }
   ],
   "source": [
    "h_td(str_time=\"12:10\")"
   ]
  }
 ],
 "metadata": {
  "kernelspec": {
   "display_name": "Python 3",
   "language": "python",
   "name": "python3"
  },
  "language_info": {
   "codemirror_mode": {
    "name": "ipython",
    "version": 3
   },
   "file_extension": ".py",
   "mimetype": "text/x-python",
   "name": "python",
   "nbconvert_exporter": "python",
   "pygments_lexer": "ipython3",
   "version": "3.8.3"
  }
 },
 "nbformat": 4,
 "nbformat_minor": 4
}
