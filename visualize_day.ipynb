{
 "cells": [
  {
   "cell_type": "code",
   "execution_count": 1,
   "metadata": {},
   "outputs": [],
   "source": [
    "from view import *\n",
    "import datetime\n",
    "from matplotlib.pyplot import *"
   ]
  },
  {
   "cell_type": "code",
   "execution_count": 4,
   "metadata": {},
   "outputs": [],
   "source": [
    "EXAMPLE_JOURNAL = \"\"\"\n",
    "* write down reward modulated learning rule and include sketch figure                                                                                           * generate plot showing result of reward modulated learning for all layers                                                                                      * finish neurodynamics chapter 3 -> partially done, read just section 3.3                                                                                                                                                                                                                                                       done:                                                                                                                                                           * testing markdown desktop editor vnote                                                                                                                         * read neurodynamics section 3.3                                                                                                                                * improve Cell class to get cell id using cell_session_id and folder name (fname)s                                                                              * trying to understand why the position tracking from mat doesn't match the whl file. And the starting value for the plot isn't matching the one intended                                                                                                                                                                       ^Tprocrastination=0:30                                                                                                                                          ^Treading=5:20                                                                                                                                                  ^Tufrn=3:05                                                                                                                                                     ^Tpersonal=0:10                                                                                                                                                 ^Tmaiseducacao=0:15                                                                                                                                                                                                                                                                                                             \n",
    "^A10:25^L11:45\n",
    "^A14:50^E17:30\n",
    "^S18:45^L22:15\n",
    "^S23:50^E2:50\n",
    "^S3:20^E4:00\"\"\"\n",
    "\n",
    "EXAMPLE_JOURNAL_2 = \"\"\"\n",
    "* write down reward modulated learning rule and include sketch figure                                                                                           * generate plot showing result of reward modulated learning for all layers                                                                                      * finish neurodynamics chapter 3 -> partially done, read just section 3.3                                                                                                                                                                                                                                                       done:                                                                                                                                                           * testing markdown desktop editor vnote                                                                                                                         * read neurodynamics section 3.3                                                                                                                                * improve Cell class to get cell id using cell_session_id and folder name (fname)s                                                                              * trying to understand why the position tracking from mat doesn't match the whl file. And the starting value for the plot isn't matching the one intended                                                                                                                                                                       ^Tprocrastination=0:30                                                                                                                                          ^Treading=5:20                                                                                                                                                  ^Tufrn=3:05                                                                                                                                                     ^Tpersonal=0:10                                                                                                                                                 ^Tmaiseducacao=0:15                                                                                                                                                                                                                                                                                                             \n",
    "^A10:25^L11:45\n",
    "^A14:50^E17:30\n",
    "^S18:45^L22:15\n",
    "^S23:50^E2:50\n",
    "^S3:20^E4:00\"\"\"\n",
    "\n",
    "EMPTY_JOURNAL = \"\"\n",
    "\n",
    "example_journals = [EXAMPLE_JOURNAL, EXAMPLE_JOURNAL_2, EXAMPLE_JOURNAL_2, \n",
    "            EXAMPLE_JOURNAL_2, EXAMPLE_JOURNAL_2, EXAMPLE_JOURNAL_2, EXAMPLE_JOURNAL_2]\n",
    "# example_journals"
   ]
  },
  {
   "cell_type": "code",
   "execution_count": 5,
   "metadata": {},
   "outputs": [
    {
     "name": "stdout",
     "output_type": "stream",
     "text": [
      "starts ['10:25', '14:50', '18:45', '23:50', '3:20'] \n",
      " ends ['11:45', '17:30', '22:15', '2:50', '4:00']\n"
     ]
    },
    {
     "data": {
      "text/plain": [
       "[(10.416666666666666, 1.3333333333333333),\n",
       " (14.833333333333334, 2.6666666666666665),\n",
       " (18.75, 3.5),\n",
       " (23.833333333333332, 3.0),\n",
       " (3.3333333333333335, 0.6666666666666666)]"
      ]
     },
     "execution_count": 5,
     "metadata": {},
     "output_type": "execute_result"
    }
   ],
   "source": [
    "def check_worktimes(text):  \n",
    "#     arrivals = re.findall('\\^A(\\d?\\d:\\d\\d)', text)\n",
    "#     leavings = re.findall('\\^L(\\d?\\d:\\d\\d)', text)\n",
    "#     starts = re.findall('\\^S(\\d?\\d:\\d\\d)', text)\n",
    "#     ends = re.findall('\\^E(\\d?\\d:\\d\\d)', text)\n",
    "#     return arrivals, leavings, starts, ends \n",
    "    starts = re.findall('\\^[SA](\\d?\\d:\\d\\d)', text)\n",
    "    ends = re.findall('\\^[EL](\\d?\\d:\\d\\d)', text)\n",
    "    return starts, ends \n",
    "\n",
    "\n",
    "def create_workblocks_from_worktimes(starts, ends):\n",
    "    \"\"\"\n",
    "    starts: list of start times\n",
    "    ends: list of end times\n",
    "    return: work_blocks: list of (start_times, duration)\n",
    "    \"\"\"\n",
    "    work_blocks = []\n",
    "    for idx in range(len(starts)):  # create work blocks from work_times\n",
    "        start = str_to_timedelta(starts[idx])\n",
    "        end = str_to_timedelta(ends[idx])\n",
    "        duration = end-start\n",
    "        start_hr =  start.seconds/3600\n",
    "        duration_hr =  duration.seconds/3600\n",
    "        work_blocks.append((start_hr, duration_hr))\n",
    "    return work_blocks\n",
    "    \n",
    "starts, ends = check_worktimes(EXAMPLE_JOURNAL)\n",
    "print(\"starts\", starts, '\\n', \"ends\", ends)\n",
    "entries = create_workblocks_from_worktimes(starts,ends)\n",
    "entries"
   ]
  },
  {
   "cell_type": "code",
   "execution_count": 6,
   "metadata": {},
   "outputs": [
    {
     "name": "stdout",
     "output_type": "stream",
     "text": [
      "10.416666666666666 1.3333333333333333\n",
      "14.833333333333334 2.6666666666666665\n",
      "18.75 3.5\n",
      "23.833333333333332 3.0\n",
      "3.3333333333333335 0.6666666666666666\n"
     ]
    },
    {
     "data": {
      "image/png": "[encoded data removed]",
      "text/plain": [
       "<Figure size 432x288 with 1 Axes>"
      ]
     },
     "metadata": {
      "needs_background": "light"
     },
     "output_type": "display_data"
    }
   ],
   "source": [
    "day = 1\n",
    "for entry in entries:\n",
    "    start, dur = entry\n",
    "    print(start, dur)\n",
    "#     if start >= 24: \n",
    "#         day = 2\n",
    "    bar(day, dur, bottom=start, color='gray')\n",
    "    if start <24 and start+dur>24:\n",
    "        bar(day, 24-start, bottom=start, color='gray')\n",
    "        day +=1\n",
    "        bar(day, start+dur-24, bottom=0, color='gray')\n",
    "        \n",
    "plt.xticks([1,2],['Monday','Tuesday']);"
   ]
  },
  {
   "cell_type": "markdown",
   "metadata": {},
   "source": [
    "# Week"
   ]
  },
  {
   "cell_type": "code",
   "execution_count": 20,
   "metadata": {},
   "outputs": [
    {
     "data": {
      "text/plain": [
       "[datetime.date(2021, 4, 12),\n",
       " datetime.date(2021, 4, 13),\n",
       " datetime.date(2021, 4, 14),\n",
       " datetime.date(2021, 4, 15),\n",
       " datetime.date(2021, 4, 16),\n",
       " datetime.date(2021, 4, 17),\n",
       " datetime.date(2021, 4, 18)]"
      ]
     },
     "execution_count": 20,
     "metadata": {},
     "output_type": "execute_result"
    }
   ],
   "source": [
    "today = datetime.date.today()\n",
    "n_weeks=2\n",
    "one_day = timedelta(days=1)\n",
    "# today = datetime.date(2021,3,8)  \n",
    "# today = datetime.date(2021,2,22)  \n",
    "last_monday = today + timedelta(days=-today.weekday())\n",
    "for w in range(n_weeks):\n",
    "    wk_monday = last_monday + timedelta(days=-7*w)\n",
    "    wk_range = [(wk_monday + i*one_day) for i in range(7)]  # all days of the week from Monday to Sunday\n",
    "    wrk_hrs, ref_hrs, avg_per_day = calc_worked_time_in_date_range(wk_range)\n",
    "wk_range"
   ]
  },
  {
   "cell_type": "code",
   "execution_count": 21,
   "metadata": {},
   "outputs": [],
   "source": [
    "def get_journal_for_strdate(strdate):\n",
    "    \"\"\"Extract total work time from given date\n",
    "    param strdate: data in string format YYYY-MM-DD\n",
    "    return (str) work_time (format HH:MM)\n",
    "    \"\"\"\n",
    "    try:\n",
    "        with open(join(JOURNALS_FOLDER, strdate+TXT_FORMAT), 'r', encoding=UTF8_ENCODING) as f:\n",
    "            text = f.read().strip()\n",
    "    except FileNotFoundError as e:\n",
    "        text = \"\"\n",
    "    return text\n",
    "\n",
    "wk_journals = [get_journal_for_strdate(dt.strftime(DATE_FORMAT_YMD)) for dt in wk_range]\n",
    "# wk_journals"
   ]
  },
  {
   "cell_type": "code",
   "execution_count": 22,
   "metadata": {},
   "outputs": [
    {
     "name": "stdout",
     "output_type": "stream",
     "text": [
      "----- 2021-04-12\n",
      "8.25 0.5833333333333334\n",
      "10.0 0.9166666666666666\n",
      "12.0 2.0833333333333335\n",
      "15.0 2.6666666666666665\n",
      "20.916666666666668 2.0833333333333335\n",
      "----- 2021-04-13\n",
      "11.916666666666666 1.9166666666666667\n",
      "15.0 7.833333333333333\n",
      "23.0 1.4166666666666667\n",
      "0.6666666666666666 1.8333333333333333\n",
      "----- 2021-04-14\n",
      "12.083333333333334 2.5\n",
      "15.0 5.083333333333333\n",
      "20.666666666666668 8.166666666666666\n",
      "----- 2021-04-15\n",
      "14.0 2.9166666666666665\n",
      "17.666666666666668 5.666666666666667\n",
      "3.0 1.0\n",
      "----- 2021-04-16\n",
      "13.0 1.3333333333333333\n",
      "15.0 1.0833333333333333\n",
      "17.083333333333332 2.0\n",
      "19.416666666666668 7.083333333333333\n",
      "----- 2021-04-17\n",
      "----- 2021-04-18\n",
      "12.916666666666666 0.16666666666666666\n",
      "19.583333333333332 3.5\n"
     ]
    },
    {
     "data": {
      "image/png": "[encoded data removed]",
      "text/plain": [
       "<Figure size 1008x432 with 1 Axes>"
      ]
     },
     "metadata": {
      "needs_background": "light"
     },
     "output_type": "display_data"
    }
   ],
   "source": [
    "journals = wk_journals\n",
    "# journals = example_journals\n",
    "\n",
    "# one color per day of the week\n",
    "COLORS=[\"tab:blue\", \"tab:orange\", \"tab:green\", \"tab:red\", \"tab:purple\", \"tab:brown\", \"tab:pink\"]\n",
    "\n",
    "plt.figure(figsize=(14,6))\n",
    "for day, journal in enumerate(journals):\n",
    "    print(\"-----\", wk_range[day].strftime(DATE_FORMAT_YMD))\n",
    "    starts, ends = check_worktimes(journals[day])\n",
    "    \n",
    "    work_blocks = create_workblocks_from_worktimes(starts,ends)\n",
    "    \n",
    "    color_idx = day\n",
    "    previous_end = 0\n",
    "    for work_block in work_blocks: # plot workblocks for a day\n",
    "        start, dur = work_block\n",
    "        print(start, dur)\n",
    "        if start <24 and start+dur>24:\n",
    "            bar(day, 24-start, bottom=start, color=COLORS[color_idx])\n",
    "            day +=1\n",
    "            bar(day, start+dur-24, bottom=0, color=COLORS[color_idx])    \n",
    "        elif previous_end > start:\n",
    "            day +=1\n",
    "            bar(day, dur, bottom=start, color=COLORS[color_idx])    \n",
    "        else:\n",
    "            bar(day, dur, bottom=start, color=COLORS[color_idx])\n",
    "            \n",
    "        if start+dur<24:  # set previous_end\n",
    "            previous_end = start+dur\n",
    "        else:\n",
    "            previous_end = start+dur - 24\n",
    "\n",
    "str_monday = wk_range[0].strftime(DATE_FORMAT_YMD)\n",
    "str_sunday = wk_range[-1].strftime(DATE_FORMAT_YMD)\n",
    "plt.title(\"Week %s - %s\" % (str_monday, str_sunday))\n",
    "plt.xticks(range(8),['Monday\\n%s' % str_monday,'Tuesday', 'Wednesday', 'Thursday', 'Friday', 'Saturday', 'Sunday\\n%s' % str_sunday, 'Monday']);\n",
    "plt.yticks(range(25))\n",
    "plt.grid(True, axis='y', alpha=0.5)"
   ]
  },
  {
   "cell_type": "markdown",
   "metadata": {},
   "source": [
    "### Change timedelta class\n",
    "This could potentially be used to obviate the use of the str_to_timedelta and timedelta_to_str"
   ]
  },
  {
   "cell_type": "code",
   "execution_count": 13,
   "metadata": {},
   "outputs": [
    {
     "name": "stdout",
     "output_type": "stream",
     "text": [
      "0:22\n"
     ]
    }
   ],
   "source": [
    "class h_td (timedelta):\n",
    "    def __new__(self, *args, **kwargs):\n",
    "        str_time=kwargs.pop('str_time', None)\n",
    "        obj =  super().__new__(self, *args, **kwargs)\n",
    "#         if str_time is not None:\n",
    "#             obj.seconds = int(str_time.split(\":\")[0]) * 3600 + int(str_time.split(\":\")[1]) * 60\n",
    "        return obj\n",
    "    def __init__(self, *args, **kwargs):\n",
    "        str_time=kwargs.pop('str_time', None)\n",
    "# #             super().__init__(seconds=int(kwargs['str_time'].split(\":\")[0]) * 3600 + int(kwargs['str_time'].split(\":\")[1]) * 60)\n",
    "# #         else:\n",
    "        super().__init__()\n",
    "        if str_time is not None:\n",
    "            self.seconds=int(str_time.split(\":\")[0]) * 3600 + int(str_time.split(\":\")[1]) * 60\n",
    "    def __str__(self):\n",
    "        return \"%d:%02d\" % (self.days*24 + self.seconds//3600, ((self.seconds // 60) % 60))\n",
    "print(h_td(seconds=1320))"
   ]
  },
  {
   "cell_type": "code",
   "execution_count": 14,
   "metadata": {},
   "outputs": [
    {
     "name": "stdout",
     "output_type": "stream",
     "text": [
      "1:42:00\n"
     ]
    }
   ],
   "source": [
    "print(h_td(seconds=1320) + h_td(hours=1) + h_td(minutes=20))"
   ]
  },
  {
   "cell_type": "code",
   "execution_count": 95,
   "metadata": {},
   "outputs": [
    {
     "data": {
      "text/plain": [
       "'12:10'"
      ]
     },
     "execution_count": 95,
     "metadata": {},
     "output_type": "execute_result"
    }
   ],
   "source": [
    "timedelta_to_str(timedelta(hours=12, minutes=10))"
   ]
  },
  {
   "cell_type": "code",
   "execution_count": 59,
   "metadata": {},
   "outputs": [
    {
     "data": {
      "text/plain": [
       "'12:10'"
      ]
     },
     "execution_count": 59,
     "metadata": {},
     "output_type": "execute_result"
    }
   ],
   "source": [
    "timedelta_to_str(h_td(seconds=12*3600+10*60))"
   ]
  },
  {
   "cell_type": "code",
   "execution_count": 91,
   "metadata": {},
   "outputs": [
    {
     "ename": "AttributeError",
     "evalue": "readonly attribute",
     "output_type": "error",
     "traceback": [
      "\u001b[0;31m---------------------------------------------------------------------------\u001b[0m",
      "\u001b[0;31mAttributeError\u001b[0m                            Traceback (most recent call last)",
      "\u001b[0;32m<ipython-input-91-e4ab931be922>\u001b[0m in \u001b[0;36m<module>\u001b[0;34m\u001b[0m\n\u001b[0;32m----> 1\u001b[0;31m \u001b[0mh_td\u001b[0m\u001b[0;34m(\u001b[0m\u001b[0mstr_time\u001b[0m\u001b[0;34m=\u001b[0m\u001b[0;34m\"12:10\"\u001b[0m\u001b[0;34m)\u001b[0m\u001b[0;34m\u001b[0m\u001b[0;34m\u001b[0m\u001b[0m\n\u001b[0m",
      "\u001b[0;32m<ipython-input-90-d51721626b6a>\u001b[0m in \u001b[0;36m__new__\u001b[0;34m(self, *args, **kwargs)\u001b[0m\n\u001b[1;32m      4\u001b[0m         \u001b[0mobj\u001b[0m \u001b[0;34m=\u001b[0m  \u001b[0msuper\u001b[0m\u001b[0;34m(\u001b[0m\u001b[0;34m)\u001b[0m\u001b[0;34m.\u001b[0m\u001b[0m__new__\u001b[0m\u001b[0;34m(\u001b[0m\u001b[0mself\u001b[0m\u001b[0;34m,\u001b[0m \u001b[0;34m*\u001b[0m\u001b[0margs\u001b[0m\u001b[0;34m,\u001b[0m \u001b[0;34m**\u001b[0m\u001b[0mkwargs\u001b[0m\u001b[0;34m)\u001b[0m\u001b[0;34m\u001b[0m\u001b[0;34m\u001b[0m\u001b[0m\n\u001b[1;32m      5\u001b[0m         \u001b[0;32mif\u001b[0m \u001b[0mstr_time\u001b[0m \u001b[0;32mis\u001b[0m \u001b[0;32mnot\u001b[0m \u001b[0;32mNone\u001b[0m\u001b[0;34m:\u001b[0m\u001b[0;34m\u001b[0m\u001b[0;34m\u001b[0m\u001b[0m\n\u001b[0;32m----> 6\u001b[0;31m             \u001b[0mobj\u001b[0m\u001b[0;34m.\u001b[0m\u001b[0mseconds\u001b[0m \u001b[0;34m=\u001b[0m \u001b[0mint\u001b[0m\u001b[0;34m(\u001b[0m\u001b[0mstr_time\u001b[0m\u001b[0;34m.\u001b[0m\u001b[0msplit\u001b[0m\u001b[0;34m(\u001b[0m\u001b[0;34m\":\"\u001b[0m\u001b[0;34m)\u001b[0m\u001b[0;34m[\u001b[0m\u001b[0;36m0\u001b[0m\u001b[0;34m]\u001b[0m\u001b[0;34m)\u001b[0m \u001b[0;34m*\u001b[0m \u001b[0;36m3600\u001b[0m \u001b[0;34m+\u001b[0m \u001b[0mint\u001b[0m\u001b[0;34m(\u001b[0m\u001b[0mstr_time\u001b[0m\u001b[0;34m.\u001b[0m\u001b[0msplit\u001b[0m\u001b[0;34m(\u001b[0m\u001b[0;34m\":\"\u001b[0m\u001b[0;34m)\u001b[0m\u001b[0;34m[\u001b[0m\u001b[0;36m1\u001b[0m\u001b[0;34m]\u001b[0m\u001b[0;34m)\u001b[0m \u001b[0;34m*\u001b[0m \u001b[0;36m60\u001b[0m\u001b[0;34m\u001b[0m\u001b[0;34m\u001b[0m\u001b[0m\n\u001b[0m\u001b[1;32m      7\u001b[0m         \u001b[0;32mreturn\u001b[0m \u001b[0mobj\u001b[0m\u001b[0;34m\u001b[0m\u001b[0;34m\u001b[0m\u001b[0m\n\u001b[1;32m      8\u001b[0m     \u001b[0;32mdef\u001b[0m \u001b[0m__init__\u001b[0m\u001b[0;34m(\u001b[0m\u001b[0mself\u001b[0m\u001b[0;34m,\u001b[0m \u001b[0;34m*\u001b[0m\u001b[0margs\u001b[0m\u001b[0;34m,\u001b[0m \u001b[0;34m**\u001b[0m\u001b[0mkwargs\u001b[0m\u001b[0;34m)\u001b[0m\u001b[0;34m:\u001b[0m\u001b[0;34m\u001b[0m\u001b[0;34m\u001b[0m\u001b[0m\n",
      "\u001b[0;31mAttributeError\u001b[0m: readonly attribute"
     ]
    }
   ],
   "source": [
    "h_td(str_time=\"12:10\")"
   ]
  }
 ],
 "metadata": {
  "kernelspec": {
   "display_name": "Python 3",
   "language": "python",
   "name": "python3"
  },
  "language_info": {
   "codemirror_mode": {
    "name": "ipython",
    "version": 3
   },
   "file_extension": ".py",
   "mimetype": "text/x-python",
   "name": "python",
   "nbconvert_exporter": "python",
   "pygments_lexer": "ipython3",
   "version": "3.8.3"
  }
 },
 "nbformat": 4,
 "nbformat_minor": 4
}
