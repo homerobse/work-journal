{
 "cells": [
  {
   "cell_type": "code",
   "execution_count": 55,
   "metadata": {},
   "outputs": [],
   "source": [
    "from view import *\n",
    "from datetime import *\n",
    "from matplotlib.pyplot import *"
   ]
  },
  {
   "cell_type": "code",
   "execution_count": 126,
   "metadata": {},
   "outputs": [],
   "source": [
    "EXAMPLE_JOURNAL = \"\"\"\n",
    "* write down reward modulated learning rule and include sketch figure                                                                                           * generate plot showing result of reward modulated learning for all layers                                                                                      * finish neurodynamics chapter 3 -> partially done, read just section 3.3                                                                                                                                                                                                                                                       done:                                                                                                                                                           * testing markdown desktop editor vnote                                                                                                                         * read neurodynamics section 3.3                                                                                                                                * improve Cell class to get cell id using cell_session_id and folder name (fname)s                                                                              * trying to understand why the position tracking from mat doesn't match the whl file. And the starting value for the plot isn't matching the one intended                                                                                                                                                                       ^Tprocrastination=0:30                                                                                                                                          ^Treading=5:20                                                                                                                                                  ^Tufrn=3:05                                                                                                                                                     ^Tpersonal=0:10                                                                                                                                                 ^Tmaiseducacao=0:15                                                                                                                                                                                                                                                                                                             \n",
    "^A10:25^L11:45\n",
    "^A14:50^E17:30\n",
    "^S18:45^L22:15\n",
    "^S23:50^E2:50\n",
    "^S3:20^E4:00\"\"\""
   ]
  },
  {
   "cell_type": "code",
   "execution_count": 127,
   "metadata": {},
   "outputs": [],
   "source": [
    "def check_worktimes(text):  \n",
    "#     arrivals = re.findall('\\^A(\\d?\\d:\\d\\d)', text)\n",
    "#     leavings = re.findall('\\^L(\\d?\\d:\\d\\d)', text)\n",
    "#     starts = re.findall('\\^S(\\d?\\d:\\d\\d)', text)\n",
    "#     ends = re.findall('\\^E(\\d?\\d:\\d\\d)', text)\n",
    "#     return arrivals, leavings, starts, ends \n",
    "    starts = re.findall('\\^[SA](\\d?\\d:\\d\\d)', text)\n",
    "    ends = re.findall('\\^[EL](\\d?\\d:\\d\\d)', text)\n",
    "    return starts, ends "
   ]
  },
  {
   "cell_type": "code",
   "execution_count": 128,
   "metadata": {},
   "outputs": [
    {
     "data": {
      "text/plain": [
       "(['10:25', '14:50', '18:45', '23:50', '3:20'],\n",
       " ['11:45', '17:30', '22:15', '2:50', '4:00'])"
      ]
     },
     "execution_count": 128,
     "metadata": {},
     "output_type": "execute_result"
    }
   ],
   "source": [
    "starts, ends = check_worktimes(EXAMPLE_JOURNAL)\n",
    "starts, ends"
   ]
  },
  {
   "cell_type": "code",
   "execution_count": 130,
   "metadata": {},
   "outputs": [
    {
     "data": {
      "text/plain": [
       "[(10.416666666666666, 1.3333333333333333),\n",
       " (14.833333333333334, 2.6666666666666665),\n",
       " (18.75, 3.5),\n",
       " (23.833333333333332, 3.0),\n",
       " (3.3333333333333335, 0.6666666666666666)]"
      ]
     },
     "execution_count": 130,
     "metadata": {},
     "output_type": "execute_result"
    }
   ],
   "source": [
    "entries = []\n",
    "for idx in range(len(starts)):\n",
    "    start = str_to_timedelta(starts[idx])\n",
    "    end = str_to_timedelta(ends[idx])\n",
    "    duration = end-start\n",
    "    start_str =  start.seconds/3600\n",
    "    duration_str =  duration.seconds/3600\n",
    "    entries.append((start_str, duration_str))\n",
    "entries"
   ]
  },
  {
   "cell_type": "code",
   "execution_count": 133,
   "metadata": {},
   "outputs": [
    {
     "name": "stdout",
     "output_type": "stream",
     "text": [
      "10.416666666666666 1.3333333333333333\n",
      "14.833333333333334 2.6666666666666665\n",
      "18.75 3.5\n",
      "23.833333333333332 3.0\n",
      "3.3333333333333335 0.6666666666666666\n"
     ]
    },
    {
     "data": {
      "image/png": "[encoded data removed]",
      "text/plain": [
       "<Figure size 432x288 with 1 Axes>"
      ]
     },
     "metadata": {
      "needs_background": "light"
     },
     "output_type": "display_data"
    }
   ],
   "source": [
    "day = 1\n",
    "for entry in entries:\n",
    "    start, dur = entry\n",
    "    print(start, dur)\n",
    "#     if start >= 24: \n",
    "#         day = 2\n",
    "    bar(day, dur, bottom=start, color='gray')\n",
    "    if start <24 and start+dur>24:\n",
    "        bar(day, 24-start, bottom=start, color='gray')\n",
    "        day +=1\n",
    "        bar(day, start+dur-24, bottom=0, color='gray')\n",
    "        \n",
    "plt.xticks([1,2],['Monday','Tuesday']);"
   ]
  },
  {
   "cell_type": "markdown",
   "metadata": {},
   "source": [
    "### Change timedelta class\n",
    "This could potentially be used to obviate the use of the str_to_timedelta and timedelta_to_str"
   ]
  },
  {
   "cell_type": "code",
   "execution_count": 156,
   "metadata": {},
   "outputs": [
    {
     "ename": "TypeError",
     "evalue": "__init__() got an unexpected keyword argument 'seconds'",
     "output_type": "error",
     "traceback": [
      "\u001b[0;31m---------------------------------------------------------------------------\u001b[0m",
      "\u001b[0;31mTypeError\u001b[0m                                 Traceback (most recent call last)",
      "\u001b[0;32m<ipython-input-156-3814013d8b39>\u001b[0m in \u001b[0;36m<module>\u001b[0;34m\u001b[0m\n\u001b[1;32m      7\u001b[0m     \u001b[0;32mdef\u001b[0m \u001b[0m__str__\u001b[0m\u001b[0;34m(\u001b[0m\u001b[0mself\u001b[0m\u001b[0;34m)\u001b[0m\u001b[0;34m:\u001b[0m\u001b[0;34m\u001b[0m\u001b[0;34m\u001b[0m\u001b[0m\n\u001b[1;32m      8\u001b[0m         \u001b[0;32mreturn\u001b[0m \u001b[0;34m\"%d:%02d\"\u001b[0m \u001b[0;34m%\u001b[0m \u001b[0;34m(\u001b[0m\u001b[0mself\u001b[0m\u001b[0;34m.\u001b[0m\u001b[0mdays\u001b[0m\u001b[0;34m*\u001b[0m\u001b[0;36m24\u001b[0m \u001b[0;34m+\u001b[0m \u001b[0mself\u001b[0m\u001b[0;34m.\u001b[0m\u001b[0mseconds\u001b[0m\u001b[0;34m//\u001b[0m\u001b[0;36m3600\u001b[0m\u001b[0;34m,\u001b[0m \u001b[0;34m(\u001b[0m\u001b[0;34m(\u001b[0m\u001b[0mself\u001b[0m\u001b[0;34m.\u001b[0m\u001b[0mseconds\u001b[0m \u001b[0;34m//\u001b[0m \u001b[0;36m60\u001b[0m\u001b[0;34m)\u001b[0m \u001b[0;34m%\u001b[0m \u001b[0;36m60\u001b[0m\u001b[0;34m)\u001b[0m\u001b[0;34m)\u001b[0m\u001b[0;34m\u001b[0m\u001b[0;34m\u001b[0m\u001b[0m\n\u001b[0;32m----> 9\u001b[0;31m \u001b[0mprint\u001b[0m\u001b[0;34m(\u001b[0m\u001b[0mh_td\u001b[0m\u001b[0;34m(\u001b[0m\u001b[0mseconds\u001b[0m\u001b[0;34m=\u001b[0m\u001b[0;36m1320\u001b[0m\u001b[0;34m)\u001b[0m\u001b[0;34m)\u001b[0m\u001b[0;34m\u001b[0m\u001b[0;34m\u001b[0m\u001b[0m\n\u001b[0m",
      "\u001b[0;31mTypeError\u001b[0m: __init__() got an unexpected keyword argument 'seconds'"
     ]
    }
   ],
   "source": [
    "class h_td (timedelta):\n",
    "    def __init__(self, *args):\n",
    "#         if type(args)==\"str\":\n",
    "#             super().__init__(seconds=int(args.split(\":\")[0]) * 3600 + int(args.split(\":\")[1]) * 60)\n",
    "#         else:\n",
    "        super().__init__(*args)\n",
    "    def __str__(self):\n",
    "        return \"%d:%02d\" % (self.days*24 + self.seconds//3600, ((self.seconds // 60) % 60))\n",
    "print(h_td(seconds=1320))"
   ]
  },
  {
   "cell_type": "code",
   "execution_count": 146,
   "metadata": {},
   "outputs": [
    {
     "ename": "TypeError",
     "evalue": "unsupported type for timedelta days component: str",
     "output_type": "error",
     "traceback": [
      "\u001b[0;31m---------------------------------------------------------------------------\u001b[0m",
      "\u001b[0;31mTypeError\u001b[0m                                 Traceback (most recent call last)",
      "\u001b[0;32m<ipython-input-146-4d5a0875f99a>\u001b[0m in \u001b[0;36m<module>\u001b[0;34m\u001b[0m\n\u001b[0;32m----> 1\u001b[0;31m \u001b[0mtimedelta\u001b[0m\u001b[0;34m(\u001b[0m\u001b[0;34m\"12:10\"\u001b[0m\u001b[0;34m)\u001b[0m\u001b[0;34m\u001b[0m\u001b[0;34m\u001b[0m\u001b[0m\n\u001b[0m",
      "\u001b[0;31mTypeError\u001b[0m: unsupported type for timedelta days component: str"
     ]
    }
   ],
   "source": [
    "timedelta(\"12:10\")"
   ]
  }
 ],
 "metadata": {
  "kernelspec": {
   "display_name": "Python 3",
   "language": "python",
   "name": "python3"
  },
  "language_info": {
   "codemirror_mode": {
    "name": "ipython",
    "version": 3
   },
   "file_extension": ".py",
   "mimetype": "text/x-python",
   "name": "python",
   "nbconvert_exporter": "python",
   "pygments_lexer": "ipython3",
   "version": "3.8.3"
  }
 },
 "nbformat": 4,
 "nbformat_minor": 4
}
